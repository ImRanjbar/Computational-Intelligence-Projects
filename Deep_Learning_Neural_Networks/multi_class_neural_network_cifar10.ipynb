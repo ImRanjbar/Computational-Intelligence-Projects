{
 "cells": [
  {
   "cell_type": "markdown",
   "metadata": {
    "id": "DWTBhVx42H6h"
   },
   "source": [
    "# Multi-Class Neural Network Classification System\n",
    "\n",
    "[![Open In Colab](https://colab.research.google.com/assets/colab-badge.svg)](https://colab.research.google.com/drive/1iec7eG2j1pPpUoNi9lrr67iHtalXXRPk)\n",
    "\n",
    "## Project Overview\n",
    "\n",
    "Implementation of a multi-class neural network classifier from scratch using TensorFlow primitives for complete CIFAR-10 dataset classification. This project demonstrates advanced deep learning concepts including softmax activation, cross-entropy loss, one-hot encoding, and multi-class backpropagation without using high-level neural network frameworks.\n",
    "\n",
    "## Contributors\n",
    "- Abolfazl Ranjbar - [GitHub](https://github.com/ImRanjbar)\n",
    "- Miaad Kimiagari - [GitHub](https://github.com/Miaad2004)\n",
    "- Taha Najaf - [GitHub](https://github.com/taha-najaf)\n",
    "\n",
    "## Objectives\n",
    "\n",
    "- Implement multi-class neural network using TensorFlow core operations\n",
    "- Apply classification to full CIFAR-10 dataset (10-class problem)\n",
    "- Demonstrate softmax activation and cross-entropy loss functions\n",
    "- Implement one-hot encoding for multi-class target representation\n",
    "- Evaluate comprehensive classification performance across all object categories\n",
    "\n",
    "## Technical Architecture\n",
    "\n",
    "**Network Structure**: Input Layer (3072) → Hidden Layer (128 neurons) → Output Layer (10 classes)  \n",
    "**Hidden Activation**: Sigmoid function with derivative computation  \n",
    "**Output Activation**: Softmax for multi-class probability distribution  \n",
    "**Loss Function**: Categorical Cross-Entropy with numerical stability  \n",
    "**Optimization**: Mini-batch Gradient Descent with Xavier weight initialization  \n",
    "**Target Encoding**: One-hot vectors for multi-class representation  \n",
    "**Implementation**: TensorFlow Variables and core mathematical operations"
   ]
  },
  {
   "cell_type": "markdown",
   "metadata": {},
   "source": [
    "## Dataset Preparation and Multi-Class Encoding\n",
    "\n",
    "Loading complete CIFAR-10 dataset for 10-class object recognition. The preprocessing pipeline includes one-hot encoding for categorical targets, pixel normalization, and image flattening for multi-class neural network compatibility."
   ]
  },
  {
   "cell_type": "code",
   "execution_count": 7,
   "metadata": {
    "executionInfo": {
     "elapsed": 3319,
     "status": "ok",
     "timestamp": 1752880128505,
     "user": {
      "displayName": "Abolfazl Ranjbar",
      "userId": "12552523976840117547"
     },
     "user_tz": -210
    },
    "id": "dg1iuF5X2Xto"
   },
   "outputs": [],
   "source": [
    "import numpy as np\n",
    "import matplotlib.pyplot as plt\n",
    "from keras.datasets import cifar10\n",
    "from sklearn.metrics import confusion_matrix, f1_score\n",
    "from tensorflow.keras.utils import to_categorical\n",
    "\n",
    "(x_train, y_train), (x_test, y_test) = cifar10.load_data()\n",
    "y_train, y_test = y_train.flatten(), y_test.flatten()\n",
    "\n",
    "# one hot\n",
    "y_train_one_hot = to_categorical(y_train, 10)\n",
    "y_test_one_hot = to_categorical(y_test, 10)\n",
    "\n",
    "# normalize and flatten images\n",
    "x_train_flat = x_train.reshape(x_train.shape[0], -1) / 255.0\n",
    "x_test_flat = x_test.reshape(x_test.shape[0], -1) / 255.0"
   ]
  },
  {
   "cell_type": "markdown",
   "metadata": {},
   "source": [
    "## Multi-Class Neural Network Architecture\n",
    "\n",
    "Complete implementation of multi-class classification neural network featuring softmax output layer, categorical cross-entropy loss, and comprehensive backpropagation for 10-class problem. The architecture includes Xavier initialization, numerical stability measures, and efficient batch processing for large-scale training."
   ]
  },
  {
   "cell_type": "code",
   "execution_count": 8,
   "metadata": {
    "executionInfo": {
     "elapsed": 6,
     "status": "ok",
     "timestamp": 1752880128506,
     "user": {
      "displayName": "Abolfazl Ranjbar",
      "userId": "12552523976840117547"
     },
     "user_tz": -210
    },
    "id": "Fh2m-zH14FDo"
   },
   "outputs": [],
   "source": [
    "import tensorflow as tf\n",
    "from tqdm import trange\n",
    "\n",
    "class MultiClassNN:\n",
    "    def __init__(self, input_size, hidden_size, output_size):\n",
    "        # Xavier/Glorot initialization\n",
    "        self.W1 = tf.Variable(tf.random.normal((input_size, hidden_size), stddev=tf.sqrt(2.0 / (input_size + hidden_size))))\n",
    "        self.b1 = tf.Variable(tf.zeros((1, hidden_size)))\n",
    "        self.W2 = tf.Variable(tf.random.normal((hidden_size, output_size), stddev=tf.sqrt(2.0 / (hidden_size + output_size))))\n",
    "        self.b2 = tf.Variable(tf.zeros((1, output_size)))\n",
    "\n",
    "    def sigmoid(self, x):\n",
    "        return tf.math.sigmoid(x)\n",
    "\n",
    "    def sigmoid_derivative(self, x):\n",
    "        return x * (1 - x)\n",
    "\n",
    "    def softmax(self, x):\n",
    "        exp_x = tf.exp(x - tf.reduce_max(x, axis=1, keepdims=True))\n",
    "        return exp_x / tf.reduce_sum(exp_x, axis=1, keepdims=True)\n",
    "\n",
    "    def cross_entropy_loss(self, y_true, y_pred):\n",
    "        eps = 1e-15\n",
    "        y_pred = tf.clip_by_value(y_pred, eps, 1 - eps)\n",
    "        return -tf.reduce_mean(tf.reduce_sum(y_true * tf.math.log(y_pred), axis=1))\n",
    "\n",
    "    def forward(self, X):\n",
    "        self.z1 = tf.matmul(X, self.W1) + self.b1\n",
    "        self.a1 = self.sigmoid(self.z1)\n",
    "\n",
    "        self.z2 = tf.matmul(self.a1, self.W2) + self.b2\n",
    "        self.a2 = self.softmax(self.z2)\n",
    "\n",
    "        return self.a2\n",
    "\n",
    "    def backpropagation(self, X, y, y_pred, learning_rate):\n",
    "        batch_size = tf.cast(tf.shape(X)[0], tf.float32)\n",
    "\n",
    "        delta_output = y_pred - y\n",
    "        delta_hidden = tf.matmul(delta_output, tf.transpose(self.W2)) * self.sigmoid_derivative(self.a1)\n",
    "\n",
    "        dW2 = tf.matmul(tf.transpose(self.a1), delta_output) / batch_size\n",
    "        db2 = tf.reduce_mean(delta_output, axis=0, keepdims=True)\n",
    "        dW1 = tf.matmul(tf.transpose(X), delta_hidden) / batch_size\n",
    "        db1 = tf.reduce_mean(delta_hidden, axis=0, keepdims=True)\n",
    "\n",
    "        self.W2.assign_sub(learning_rate * dW2)\n",
    "        self.b2.assign_sub(learning_rate * db2)\n",
    "        self.W1.assign_sub(learning_rate * dW1)\n",
    "        self.b1.assign_sub(learning_rate * db1)\n",
    "\n",
    "    def train(self, X, y, epochs=20, batch_size=128, learning_rate=0.01):\n",
    "        X = tf.convert_to_tensor(X, dtype=tf.float32)\n",
    "        y = tf.convert_to_tensor(y, dtype=tf.float32)\n",
    "        n_samples = X.shape[0]\n",
    "        loss_history = []\n",
    "\n",
    "        progress = trange(epochs, desc=\"Training\")\n",
    "        for epoch in progress:\n",
    "            indices = tf.random.shuffle(tf.range(n_samples))\n",
    "            X_shuffled = tf.gather(X, indices)\n",
    "            y_shuffled = tf.gather(y, indices)\n",
    "\n",
    "            for i in range(0, n_samples, batch_size):\n",
    "                X_batch = X_shuffled[i:i+batch_size]\n",
    "                y_batch = y_shuffled[i:i+batch_size]\n",
    "\n",
    "                y_pred = self.forward(X_batch)\n",
    "                self.backpropagation(X_batch, y_batch, y_pred, learning_rate)\n",
    "\n",
    "            y_pred = self.forward(X)\n",
    "            loss = self.cross_entropy_loss(y, y_pred).numpy()\n",
    "            loss_history.append(loss)\n",
    "\n",
    "            progress.set_postfix({\"loss\": f\"{loss:.4f}\"})\n",
    "\n",
    "        return loss_history\n",
    "\n",
    "    def predict(self, X):\n",
    "        X = tf.convert_to_tensor(X, dtype=tf.float32)\n",
    "        return self.forward(X)\n",
    "\n",
    "    def predict_classes(self, X):\n",
    "        return tf.argmax(self.predict(X), axis=1).numpy()\n"
   ]
  },
  {
   "cell_type": "markdown",
   "metadata": {},
   "source": [
    "## Model Training and Loss Optimization\n",
    "\n",
    "Training the multi-class neural network with 128 hidden neurons on CIFAR-10 subset using cross-entropy loss minimization. The training process includes 1000 epochs with mini-batch processing, learning rate optimization, and real-time loss visualization for convergence analysis."
   ]
  },
  {
   "cell_type": "code",
   "execution_count": 9,
   "metadata": {
    "colab": {
     "base_uri": "https://localhost:8080/",
     "height": 505
    },
    "executionInfo": {
     "elapsed": 241591,
     "status": "ok",
     "timestamp": 1752880370092,
     "user": {
      "displayName": "Abolfazl Ranjbar",
      "userId": "12552523976840117547"
     },
     "user_tz": -210
    },
    "id": "J4oFXjLb4qSI",
    "outputId": "f95acafb-0fca-46eb-8629-fcc743f5e047"
   },
   "outputs": [
    {
     "name": "stderr",
     "output_type": "stream",
     "text": [
      "Training: 100%|██████████| 1000/1000 [04:00<00:00,  4.15it/s, loss=1.3323]\n"
     ]
    },
    {
     "data": {
      "image/png": "[encoded data removed]",
      "text/plain": [
       "<Figure size 1000x500 with 1 Axes>"
      ]
     },
     "metadata": {},
     "output_type": "display_data"
    }
   ],
   "source": [
    "input_size = x_train_flat.shape[1]  # 3072 for CIFAR-10\n",
    "hidden_size = 128\n",
    "output_size = 10  # 10 classes\n",
    "\n",
    "model = MultiClassNN(input_size, hidden_size, output_size)\n",
    "\n",
    "subset_size = 10000\n",
    "loss_history = model.train(\n",
    "    x_train_flat[:subset_size],\n",
    "    y_train_one_hot[:subset_size],\n",
    "    epochs=1000,\n",
    "    batch_size=256,\n",
    "    learning_rate=0.01\n",
    ")\n",
    "\n",
    "\n",
    "plt.figure(figsize=(10, 5))\n",
    "plt.plot(loss_history)\n",
    "plt.title('Cross-Entropy Loss over Epochs')\n",
    "plt.xlabel('Epochs')\n",
    "plt.ylabel('Loss')\n",
    "plt.grid(True)\n",
    "plt.show()"
   ]
  },
  {
   "cell_type": "markdown",
   "metadata": {},
   "source": [
    "## Multi-Class Performance Evaluation\n",
    "\n",
    "Comprehensive evaluation of the trained neural network on CIFAR-10 test dataset including detailed classification report with precision, recall, and F1-scores for all 10 object categories. The evaluation demonstrates the model's capability in handling complex multi-class image recognition tasks."
   ]
  },
  {
   "cell_type": "code",
   "execution_count": 10,
   "metadata": {
    "colab": {
     "base_uri": "https://localhost:8080/"
    },
    "executionInfo": {
     "elapsed": 438,
     "status": "ok",
     "timestamp": 1752880370525,
     "user": {
      "displayName": "Abolfazl Ranjbar",
      "userId": "12552523976840117547"
     },
     "user_tz": -210
    },
    "id": "KoP3Vx9y5Axa",
    "outputId": "b5f457fc-e1fd-4f51-8fba-ea9aff69bd7e"
   },
   "outputs": [
    {
     "name": "stdout",
     "output_type": "stream",
     "text": [
      "Classification Report:\n",
      "              precision    recall  f1-score   support\n",
      "\n",
      "           0       0.46      0.58      0.51      1000\n",
      "           1       0.53      0.51      0.52      1000\n",
      "           2       0.35      0.28      0.31      1000\n",
      "           3       0.34      0.23      0.28      1000\n",
      "           4       0.33      0.43      0.37      1000\n",
      "           5       0.44      0.25      0.32      1000\n",
      "           6       0.47      0.47      0.47      1000\n",
      "           7       0.40      0.59      0.47      1000\n",
      "           8       0.56      0.58      0.57      1000\n",
      "           9       0.49      0.43      0.46      1000\n",
      "\n",
      "    accuracy                           0.44     10000\n",
      "   macro avg       0.44      0.44      0.43     10000\n",
      "weighted avg       0.44      0.44      0.43     10000\n",
      "\n"
     ]
    }
   ],
   "source": [
    "from sklearn.metrics import classification_report\n",
    "\n",
    "# Evaluate model\n",
    "y_pred = model.predict(x_test_flat)\n",
    "y_pred_classes = np.argmax(y_pred, axis=1)\n",
    "\n",
    "report = classification_report(y_test, y_pred_classes)\n",
    "print(\"Classification Report:\")\n",
    "print(report)"
   ]
  }
 ],
 "metadata": {
  "accelerator": "GPU",
  "colab": {
   "gpuType": "T4",
   "provenance": [
    {
     "file_id": "1BwlY3N5QzEW5ETtK_Ij6zPNHEpnmHuGe",
     "timestamp": 1752879332824
    },
    {
     "file_id": "1sCjgKEGqsNtVMaupgo_snbtLRVKvCkUs",
     "timestamp": 1752879071540
    }
   ],
   "toc_visible": true
  },
  "kernelspec": {
   "display_name": "Python 3",
   "name": "python3"
  },
  "language_info": {
   "name": "python"
  }
 },
 "nbformat": 4,
 "nbformat_minor": 0
}
